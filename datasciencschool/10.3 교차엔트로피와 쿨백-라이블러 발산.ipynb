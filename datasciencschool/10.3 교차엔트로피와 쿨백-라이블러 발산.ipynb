{
 "cells": [
  {
   "cell_type": "markdown",
   "source": [
    "# 10.3 교차엔트로피와 쿨백-라이블러 발산"
   ],
   "metadata": {}
  },
  {
   "cell_type": "code",
   "execution_count": 2,
   "source": [
    "import numpy as np\r\n",
    "import pandas as pd\r\n",
    "import scipy as sp\r\n",
    "import seaborn as sns\r\n",
    "import matplotlib.pyplot as plt\r\n",
    "\r\n",
    "# 컴퓨터에 이미 깔린 한글 폰트 적용하면 됨.\r\n",
    "plt.rcParams['font.family'] = 'Malgun Gothic'\r\n",
    "%matplotlib inline\r\n",
    "plt.rcParams['axes.unicode_minus'] = False\r\n",
    "\r\n",
    "# 설치된 폰트 중 한글 지원하는 폰트 찾기 : Nanum이나 Gothic 등 검색\r\n",
    "# import matplotlib.font_manager as fm\r\n",
    "# font_list = [font.name for font in fm.fontManager.ttflist]\r\n",
    "# for f in font_list:\r\n",
    "#     if 'Gothic' in f:\r\n",
    "#         print(f)"
   ],
   "outputs": [],
   "metadata": {}
  },
  {
   "cell_type": "markdown",
   "source": [
    "### 예제 10.3.1"
   ],
   "metadata": {}
  },
  {
   "cell_type": "code",
   "execution_count": 3,
   "source": [
    "from sklearn.datasets import load_iris\r\n",
    "\r\n",
    "iris = load_iris()\r\n",
    "idx = np.in1d(iris.target, [0, 1])\r\n",
    "X = iris.data[idx, :]\r\n",
    "y = iris.target[idx]\r\n",
    "df = pd.DataFrame(X, columns=iris.feature_names)\r\n",
    "df[\"y\"] = iris.target[idx]\r\n",
    "df[\"y_hat\"] = (df[\"sepal length (cm)\"] > 5.4).astype(int)\r\n",
    "df.tail()"
   ],
   "outputs": [
    {
     "output_type": "execute_result",
     "data": {
      "text/plain": [
       "    sepal length (cm)  sepal width (cm)  petal length (cm)  petal width (cm)  \\\n",
       "95                5.7               3.0                4.2               1.2   \n",
       "96                5.7               2.9                4.2               1.3   \n",
       "97                6.2               2.9                4.3               1.3   \n",
       "98                5.1               2.5                3.0               1.1   \n",
       "99                5.7               2.8                4.1               1.3   \n",
       "\n",
       "    y  y_hat  \n",
       "95  1      1  \n",
       "96  1      1  \n",
       "97  1      1  \n",
       "98  1      0  \n",
       "99  1      1  "
      ],
      "text/html": [
       "<div>\n",
       "<style scoped>\n",
       "    .dataframe tbody tr th:only-of-type {\n",
       "        vertical-align: middle;\n",
       "    }\n",
       "\n",
       "    .dataframe tbody tr th {\n",
       "        vertical-align: top;\n",
       "    }\n",
       "\n",
       "    .dataframe thead th {\n",
       "        text-align: right;\n",
       "    }\n",
       "</style>\n",
       "<table border=\"1\" class=\"dataframe\">\n",
       "  <thead>\n",
       "    <tr style=\"text-align: right;\">\n",
       "      <th></th>\n",
       "      <th>sepal length (cm)</th>\n",
       "      <th>sepal width (cm)</th>\n",
       "      <th>petal length (cm)</th>\n",
       "      <th>petal width (cm)</th>\n",
       "      <th>y</th>\n",
       "      <th>y_hat</th>\n",
       "    </tr>\n",
       "  </thead>\n",
       "  <tbody>\n",
       "    <tr>\n",
       "      <th>95</th>\n",
       "      <td>5.7</td>\n",
       "      <td>3.0</td>\n",
       "      <td>4.2</td>\n",
       "      <td>1.2</td>\n",
       "      <td>1</td>\n",
       "      <td>1</td>\n",
       "    </tr>\n",
       "    <tr>\n",
       "      <th>96</th>\n",
       "      <td>5.7</td>\n",
       "      <td>2.9</td>\n",
       "      <td>4.2</td>\n",
       "      <td>1.3</td>\n",
       "      <td>1</td>\n",
       "      <td>1</td>\n",
       "    </tr>\n",
       "    <tr>\n",
       "      <th>97</th>\n",
       "      <td>6.2</td>\n",
       "      <td>2.9</td>\n",
       "      <td>4.3</td>\n",
       "      <td>1.3</td>\n",
       "      <td>1</td>\n",
       "      <td>1</td>\n",
       "    </tr>\n",
       "    <tr>\n",
       "      <th>98</th>\n",
       "      <td>5.1</td>\n",
       "      <td>2.5</td>\n",
       "      <td>3.0</td>\n",
       "      <td>1.1</td>\n",
       "      <td>1</td>\n",
       "      <td>0</td>\n",
       "    </tr>\n",
       "    <tr>\n",
       "      <th>99</th>\n",
       "      <td>5.7</td>\n",
       "      <td>2.8</td>\n",
       "      <td>4.1</td>\n",
       "      <td>1.3</td>\n",
       "      <td>1</td>\n",
       "      <td>1</td>\n",
       "    </tr>\n",
       "  </tbody>\n",
       "</table>\n",
       "</div>"
      ]
     },
     "metadata": {},
     "execution_count": 3
    }
   ],
   "metadata": {}
  },
  {
   "cell_type": "code",
   "execution_count": 4,
   "source": [
    "from sklearn.metrics import log_loss\r\n",
    "\r\n",
    "log_loss(df[\"y\"], df[\"y_hat\"])"
   ],
   "outputs": [
    {
     "output_type": "execute_result",
     "data": {
      "text/plain": [
       "3.799305383311686"
      ]
     },
     "metadata": {},
     "execution_count": 4
    }
   ],
   "metadata": {}
  },
  {
   "cell_type": "markdown",
   "source": [
    "#### (1) 붓꽃 데이터에서 꽃받침의 길이(sepal length)의 최솟값과 최댓값 구간을 0.5 간격으로 나누어 각각의 값을 기준값으로 하였을 때 로그손실이 어떻게 변하는지 그래프로 그려라. 종으로는 세토사와 베르시칼라만 사용한다."
   ],
   "metadata": {}
  },
  {
   "cell_type": "code",
   "execution_count": 31,
   "source": [
    "def calculate_logloss(df, thres):\r\n",
    "    df[\"y_hat\"] = (df[\"sepal length (cm)\"] > thres).astype(int)\r\n",
    "    return log_loss(df[\"y\"], df[\"y_hat\"])\r\n",
    "min = df['sepal length (cm)'].min()\r\n",
    "max = df['sepal length (cm)'].max()\r\n",
    "\r\n",
    "grid = np.array(range(int(min*20), int(max*20)))/20\r\n",
    "\r\n",
    "logloss = []\r\n",
    "for thres in grid:\r\n",
    "    logloss.append(calculate_logloss(df, thres))\r\n",
    "    \r\n",
    "sns.lineplot(grid, logloss)"
   ],
   "outputs": [
    {
     "output_type": "stream",
     "name": "stderr",
     "text": [
      "C:\\Python\\Python37\\lib\\site-packages\\seaborn\\_decorators.py:43: FutureWarning: Pass the following variables as keyword args: x, y. From version 0.12, the only valid positional argument will be `data`, and passing other arguments without an explicit keyword will result in an error or misinterpretation.\n",
      "  FutureWarning\n"
     ]
    },
    {
     "output_type": "execute_result",
     "data": {
      "text/plain": [
       "<AxesSubplot:>"
      ]
     },
     "metadata": {},
     "execution_count": 31
    },
    {
     "output_type": "display_data",
     "data": {
      "text/plain": [
       "<Figure size 432x288 with 1 Axes>"
      ],
      "image/svg+xml": "<?xml version=\"1.0\" encoding=\"utf-8\" standalone=\"no\"?>\r\n<!DOCTYPE svg PUBLIC \"-//W3C//DTD SVG 1.1//EN\"\r\n  \"http://www.w3.org/Graphics/SVG/1.1/DTD/svg11.dtd\">\r\n<svg height=\"248.79625pt\" version=\"1.1\" viewBox=\"0 0 367.215625 248.79625\" width=\"367.215625pt\" xmlns=\"http://www.w3.org/2000/svg\" xmlns:xlink=\"http://www.w3.org/1999/xlink\">\r\n <metadata>\r\n  <rdf:RDF xmlns:cc=\"http://creativecommons.org/ns#\" xmlns:dc=\"http://purl.org/dc/elements/1.1/\" xmlns:rdf=\"http://www.w3.org/1999/02/22-rdf-syntax-ns#\">\r\n   <cc:Work>\r\n    <dc:type rdf:resource=\"http://purl.org/dc/dcmitype/StillImage\"/>\r\n    <dc:date>2021-08-06T18:01:56.461699</dc:date>\r\n    <dc:format>image/svg+xml</dc:format>\r\n    <dc:creator>\r\n     <cc:Agent>\r\n      <dc:title>Matplotlib v3.4.2, https://matplotlib.org/</dc:title>\r\n     </cc:Agent>\r\n    </dc:creator>\r\n   </cc:Work>\r\n  </rdf:RDF>\r\n </metadata>\r\n <defs>\r\n  <style type=\"text/css\">*{stroke-linecap:butt;stroke-linejoin:round;}</style>\r\n </defs>\r\n <g id=\"figure_1\">\r\n  <g id=\"patch_1\">\r\n   <path d=\"M 0 248.79625 \r\nL 367.215625 248.79625 \r\nL 367.215625 0 \r\nL 0 0 \r\nz\r\n\" style=\"fill:none;\"/>\r\n  </g>\r\n  <g id=\"axes_1\">\r\n   <g id=\"patch_2\">\r\n    <path d=\"M 25.215625 224.64 \r\nL 360.015625 224.64 \r\nL 360.015625 7.2 \r\nL 25.215625 7.2 \r\nz\r\n\" style=\"fill:#ffffff;\"/>\r\n   </g>\r\n   <g id=\"matplotlib.axis_1\">\r\n    <g id=\"xtick_1\">\r\n     <g id=\"line2d_1\">\r\n      <defs>\r\n       <path d=\"M 0 0 \r\nL 0 3.5 \r\n\" id=\"mf42bd21f80\" style=\"stroke:#000000;stroke-width:0.8;\"/>\r\n      </defs>\r\n      <g>\r\n       <use style=\"stroke:#000000;stroke-width:0.8;\" x=\"63.404647\" xlink:href=\"#mf42bd21f80\" y=\"224.64\"/>\r\n      </g>\r\n     </g>\r\n     <g id=\"text_1\">\r\n      <!-- 4.5 -->\r\n      <g transform=\"translate(56.803085 239.232187)scale(0.1 -0.1)\">\r\n       <defs>\r\n        <path d=\"M 2703 4600 \r\nL 2703 1563 \r\nL 3309 1563 \r\nL 3309 1113 \r\nL 2703 1113 \r\nL 2703 0 \r\nL 2213 0 \r\nL 2213 1113 \r\nL 50 1113 \r\nL 50 1534 \r\nQ 728 2297 1295 3109 \r\nQ 1863 3922 2172 4600 \r\nL 2703 4600 \r\nz\r\nM 625 1563 \r\nL 2213 1563 \r\nL 2213 3831 \r\nQ 1613 2788 959 1981 \r\nL 625 1563 \r\nz\r\n\" id=\"MalgunGothic-34\" transform=\"scale(0.015625)\"/>\r\n        <path d=\"M 356 275 \r\nQ 356 422 459 523 \r\nQ 563 625 700 625 \r\nQ 838 625 941 523 \r\nQ 1044 422 1044 275 \r\nQ 1044 138 942 33 \r\nQ 841 -72 700 -72 \r\nQ 559 -72 457 29 \r\nQ 356 131 356 275 \r\nz\r\n\" id=\"MalgunGothic-2e\" transform=\"scale(0.015625)\"/>\r\n        <path d=\"M 3072 1403 \r\nQ 3072 722 2636 322 \r\nQ 2200 -78 1469 -78 \r\nQ 828 -78 516 113 \r\nL 516 650 \r\nQ 994 344 1475 344 \r\nQ 1969 344 2270 630 \r\nQ 2572 916 2572 1372 \r\nQ 2572 1838 2265 2092 \r\nQ 1959 2347 1381 2347 \r\nQ 994 2347 603 2300 \r\nL 759 4600 \r\nL 2869 4600 \r\nL 2869 4147 \r\nL 1206 4147 \r\nL 1106 2763 \r\nQ 1347 2784 1547 2784 \r\nQ 2263 2784 2667 2414 \r\nQ 3072 2044 3072 1403 \r\nz\r\n\" id=\"MalgunGothic-35\" transform=\"scale(0.015625)\"/>\r\n       </defs>\r\n       <use xlink:href=\"#MalgunGothic-34\"/>\r\n       <use x=\"55.078125\" xlink:href=\"#MalgunGothic-2e\"/>\r\n       <use x=\"76.953125\" xlink:href=\"#MalgunGothic-35\"/>\r\n      </g>\r\n     </g>\r\n    </g>\r\n    <g id=\"xtick_2\">\r\n     <g id=\"line2d_2\">\r\n      <g>\r\n       <use style=\"stroke:#000000;stroke-width:0.8;\" x=\"120.831748\" xlink:href=\"#mf42bd21f80\" y=\"224.64\"/>\r\n      </g>\r\n     </g>\r\n     <g id=\"text_2\">\r\n      <!-- 5.0 -->\r\n      <g transform=\"translate(114.230186 239.232187)scale(0.1 -0.1)\">\r\n       <defs>\r\n        <path d=\"M 278 2206 \r\nQ 278 3425 675 4050 \r\nQ 1072 4675 1819 4675 \r\nQ 3253 4675 3253 2319 \r\nQ 3253 1156 2854 539 \r\nQ 2456 -78 1716 -78 \r\nQ 1016 -78 647 520 \r\nQ 278 1119 278 2206 \r\nz\r\nM 784 2231 \r\nQ 784 344 1769 344 \r\nQ 2747 344 2747 2259 \r\nQ 2747 4250 1794 4250 \r\nQ 784 4250 784 2231 \r\nz\r\n\" id=\"MalgunGothic-30\" transform=\"scale(0.015625)\"/>\r\n       </defs>\r\n       <use xlink:href=\"#MalgunGothic-35\"/>\r\n       <use x=\"55.078125\" xlink:href=\"#MalgunGothic-2e\"/>\r\n       <use x=\"76.953125\" xlink:href=\"#MalgunGothic-30\"/>\r\n      </g>\r\n     </g>\r\n    </g>\r\n    <g id=\"xtick_3\">\r\n     <g id=\"line2d_3\">\r\n      <g>\r\n       <use style=\"stroke:#000000;stroke-width:0.8;\" x=\"178.25885\" xlink:href=\"#mf42bd21f80\" y=\"224.64\"/>\r\n      </g>\r\n     </g>\r\n     <g id=\"text_3\">\r\n      <!-- 5.5 -->\r\n      <g transform=\"translate(171.657287 239.232187)scale(0.1 -0.1)\">\r\n       <use xlink:href=\"#MalgunGothic-35\"/>\r\n       <use x=\"55.078125\" xlink:href=\"#MalgunGothic-2e\"/>\r\n       <use x=\"76.953125\" xlink:href=\"#MalgunGothic-35\"/>\r\n      </g>\r\n     </g>\r\n    </g>\r\n    <g id=\"xtick_4\">\r\n     <g id=\"line2d_4\">\r\n      <g>\r\n       <use style=\"stroke:#000000;stroke-width:0.8;\" x=\"235.685951\" xlink:href=\"#mf42bd21f80\" y=\"224.64\"/>\r\n      </g>\r\n     </g>\r\n     <g id=\"text_4\">\r\n      <!-- 6.0 -->\r\n      <g transform=\"translate(229.084388 239.232187)scale(0.1 -0.1)\">\r\n       <defs>\r\n        <path d=\"M 2981 4069 \r\nQ 2619 4250 2228 4250 \r\nQ 1591 4250 1228 3689 \r\nQ 866 3128 869 2213 \r\nL 884 2213 \r\nQ 1203 2872 1938 2872 \r\nQ 2547 2872 2903 2478 \r\nQ 3259 2084 3259 1450 \r\nQ 3259 797 2857 359 \r\nQ 2456 -78 1825 -78 \r\nQ 1116 -78 736 478 \r\nQ 356 1034 356 2019 \r\nQ 356 3181 847 3928 \r\nQ 1338 4675 2222 4675 \r\nQ 2700 4675 2981 4544 \r\nL 2981 4069 \r\nz\r\nM 906 1506 \r\nQ 906 1022 1165 683 \r\nQ 1425 344 1844 344 \r\nQ 2247 344 2498 645 \r\nQ 2750 947 2750 1388 \r\nQ 2750 1888 2509 2167 \r\nQ 2269 2447 1838 2447 \r\nQ 1444 2447 1175 2173 \r\nQ 906 1900 906 1506 \r\nz\r\n\" id=\"MalgunGothic-36\" transform=\"scale(0.015625)\"/>\r\n       </defs>\r\n       <use xlink:href=\"#MalgunGothic-36\"/>\r\n       <use x=\"55.078125\" xlink:href=\"#MalgunGothic-2e\"/>\r\n       <use x=\"76.953125\" xlink:href=\"#MalgunGothic-30\"/>\r\n      </g>\r\n     </g>\r\n    </g>\r\n    <g id=\"xtick_5\">\r\n     <g id=\"line2d_5\">\r\n      <g>\r\n       <use style=\"stroke:#000000;stroke-width:0.8;\" x=\"293.113052\" xlink:href=\"#mf42bd21f80\" y=\"224.64\"/>\r\n      </g>\r\n     </g>\r\n     <g id=\"text_5\">\r\n      <!-- 6.5 -->\r\n      <g transform=\"translate(286.51149 239.232187)scale(0.1 -0.1)\">\r\n       <use xlink:href=\"#MalgunGothic-36\"/>\r\n       <use x=\"55.078125\" xlink:href=\"#MalgunGothic-2e\"/>\r\n       <use x=\"76.953125\" xlink:href=\"#MalgunGothic-35\"/>\r\n      </g>\r\n     </g>\r\n    </g>\r\n    <g id=\"xtick_6\">\r\n     <g id=\"line2d_6\">\r\n      <g>\r\n       <use style=\"stroke:#000000;stroke-width:0.8;\" x=\"350.540153\" xlink:href=\"#mf42bd21f80\" y=\"224.64\"/>\r\n      </g>\r\n     </g>\r\n     <g id=\"text_6\">\r\n      <!-- 7.0 -->\r\n      <g transform=\"translate(343.938591 239.232187)scale(0.1 -0.1)\">\r\n       <defs>\r\n        <path d=\"M 3213 4297 \r\nQ 2478 3006 2064 1918 \r\nQ 1650 831 1550 0 \r\nL 1009 0 \r\nQ 1084 531 1290 1176 \r\nQ 1497 1822 1815 2537 \r\nQ 2134 3253 2631 4147 \r\nL 291 4147 \r\nL 291 4600 \r\nL 3213 4600 \r\nL 3213 4297 \r\nz\r\n\" id=\"MalgunGothic-37\" transform=\"scale(0.015625)\"/>\r\n       </defs>\r\n       <use xlink:href=\"#MalgunGothic-37\"/>\r\n       <use x=\"55.078125\" xlink:href=\"#MalgunGothic-2e\"/>\r\n       <use x=\"76.953125\" xlink:href=\"#MalgunGothic-30\"/>\r\n      </g>\r\n     </g>\r\n    </g>\r\n   </g>\r\n   <g id=\"matplotlib.axis_2\">\r\n    <g id=\"ytick_1\">\r\n     <g id=\"line2d_7\">\r\n      <defs>\r\n       <path d=\"M 0 0 \r\nL -3.5 0 \r\n\" id=\"m39e3fe3f4b\" style=\"stroke:#000000;stroke-width:0.8;\"/>\r\n      </defs>\r\n      <g>\r\n       <use style=\"stroke:#000000;stroke-width:0.8;\" x=\"25.215625\" xlink:href=\"#m39e3fe3f4b\" y=\"211.733766\"/>\r\n      </g>\r\n     </g>\r\n     <g id=\"text_7\">\r\n      <!-- 4 -->\r\n      <g transform=\"translate(12.707813 215.52986)scale(0.1 -0.1)\">\r\n       <use xlink:href=\"#MalgunGothic-34\"/>\r\n      </g>\r\n     </g>\r\n    </g>\r\n    <g id=\"ytick_2\">\r\n     <g id=\"line2d_8\">\r\n      <g>\r\n       <use style=\"stroke:#000000;stroke-width:0.8;\" x=\"25.215625\" xlink:href=\"#m39e3fe3f4b\" y=\"181.612407\"/>\r\n      </g>\r\n     </g>\r\n     <g id=\"text_8\">\r\n      <!-- 6 -->\r\n      <g transform=\"translate(12.707813 185.408501)scale(0.1 -0.1)\">\r\n       <use xlink:href=\"#MalgunGothic-36\"/>\r\n      </g>\r\n     </g>\r\n    </g>\r\n    <g id=\"ytick_3\">\r\n     <g id=\"line2d_9\">\r\n      <g>\r\n       <use style=\"stroke:#000000;stroke-width:0.8;\" x=\"25.215625\" xlink:href=\"#m39e3fe3f4b\" y=\"151.491048\"/>\r\n      </g>\r\n     </g>\r\n     <g id=\"text_9\">\r\n      <!-- 8 -->\r\n      <g transform=\"translate(12.707813 155.287142)scale(0.1 -0.1)\">\r\n       <defs>\r\n        <path d=\"M 303 1281 \r\nQ 303 1669 539 2011 \r\nQ 775 2353 1153 2494 \r\nQ 856 2647 675 2915 \r\nQ 494 3184 494 3500 \r\nQ 494 3828 659 4098 \r\nQ 825 4369 1122 4522 \r\nQ 1419 4675 1778 4675 \r\nQ 2334 4675 2700 4342 \r\nQ 3066 4009 3066 3500 \r\nQ 3066 3181 2881 2914 \r\nQ 2697 2647 2413 2494 \r\nQ 2788 2350 3022 2009 \r\nQ 3256 1669 3256 1281 \r\nQ 3256 672 2843 297 \r\nQ 2431 -78 1778 -78 \r\nQ 1131 -78 717 301 \r\nQ 303 681 303 1281 \r\nz\r\nM 809 1328 \r\nQ 809 878 1081 611 \r\nQ 1353 344 1781 344 \r\nQ 2206 344 2482 619 \r\nQ 2759 894 2759 1328 \r\nQ 2759 1731 2482 2011 \r\nQ 2206 2291 1781 2291 \r\nQ 1372 2291 1090 2020 \r\nQ 809 1750 809 1328 \r\nz\r\nM 1003 3459 \r\nQ 1003 3125 1234 2900 \r\nQ 1466 2675 1781 2675 \r\nQ 2097 2675 2330 2900 \r\nQ 2563 3125 2563 3459 \r\nQ 2563 3803 2341 4026 \r\nQ 2119 4250 1781 4250 \r\nQ 1450 4250 1226 4029 \r\nQ 1003 3809 1003 3459 \r\nz\r\n\" id=\"MalgunGothic-38\" transform=\"scale(0.015625)\"/>\r\n       </defs>\r\n       <use xlink:href=\"#MalgunGothic-38\"/>\r\n      </g>\r\n     </g>\r\n    </g>\r\n    <g id=\"ytick_4\">\r\n     <g id=\"line2d_10\">\r\n      <g>\r\n       <use style=\"stroke:#000000;stroke-width:0.8;\" x=\"25.215625\" xlink:href=\"#m39e3fe3f4b\" y=\"121.369689\"/>\r\n      </g>\r\n     </g>\r\n     <g id=\"text_10\">\r\n      <!-- 10 -->\r\n      <g transform=\"translate(7.2 125.165783)scale(0.1 -0.1)\">\r\n       <defs>\r\n        <path d=\"M 2231 0 \r\nL 1734 0 \r\nL 1734 3972 \r\nQ 1591 3828 1266 3661 \r\nQ 941 3494 672 3428 \r\nL 672 3959 \r\nQ 1016 4056 1409 4275 \r\nQ 1803 4494 2031 4700 \r\nL 2231 4700 \r\nL 2231 0 \r\nz\r\n\" id=\"MalgunGothic-31\" transform=\"scale(0.015625)\"/>\r\n       </defs>\r\n       <use xlink:href=\"#MalgunGothic-31\"/>\r\n       <use x=\"55.078125\" xlink:href=\"#MalgunGothic-30\"/>\r\n      </g>\r\n     </g>\r\n    </g>\r\n    <g id=\"ytick_5\">\r\n     <g id=\"line2d_11\">\r\n      <g>\r\n       <use style=\"stroke:#000000;stroke-width:0.8;\" x=\"25.215625\" xlink:href=\"#m39e3fe3f4b\" y=\"91.24833\"/>\r\n      </g>\r\n     </g>\r\n     <g id=\"text_11\">\r\n      <!-- 12 -->\r\n      <g transform=\"translate(7.2 95.044424)scale(0.1 -0.1)\">\r\n       <defs>\r\n        <path d=\"M 2519 3372 \r\nQ 2519 3784 2275 4018 \r\nQ 2031 4253 1628 4253 \r\nQ 1341 4253 1053 4104 \r\nQ 766 3956 534 3697 \r\nL 534 4234 \r\nQ 981 4675 1691 4675 \r\nQ 2281 4675 2642 4334 \r\nQ 3003 3994 3003 3416 \r\nQ 3003 2919 2772 2545 \r\nQ 2541 2172 1984 1775 \r\nQ 1459 1406 1254 1215 \r\nQ 1050 1025 967 854 \r\nQ 884 684 884 450 \r\nL 3116 450 \r\nL 3116 0 \r\nL 356 0 \r\nL 356 225 \r\nQ 356 603 461 870 \r\nQ 566 1138 811 1392 \r\nQ 1056 1647 1597 2022 \r\nQ 2091 2363 2305 2670 \r\nQ 2519 2978 2519 3372 \r\nz\r\n\" id=\"MalgunGothic-32\" transform=\"scale(0.015625)\"/>\r\n       </defs>\r\n       <use xlink:href=\"#MalgunGothic-31\"/>\r\n       <use x=\"55.078125\" xlink:href=\"#MalgunGothic-32\"/>\r\n      </g>\r\n     </g>\r\n    </g>\r\n    <g id=\"ytick_6\">\r\n     <g id=\"line2d_12\">\r\n      <g>\r\n       <use style=\"stroke:#000000;stroke-width:0.8;\" x=\"25.215625\" xlink:href=\"#m39e3fe3f4b\" y=\"61.126971\"/>\r\n      </g>\r\n     </g>\r\n     <g id=\"text_12\">\r\n      <!-- 14 -->\r\n      <g transform=\"translate(7.2 64.923064)scale(0.1 -0.1)\">\r\n       <use xlink:href=\"#MalgunGothic-31\"/>\r\n       <use x=\"55.078125\" xlink:href=\"#MalgunGothic-34\"/>\r\n      </g>\r\n     </g>\r\n    </g>\r\n    <g id=\"ytick_7\">\r\n     <g id=\"line2d_13\">\r\n      <g>\r\n       <use style=\"stroke:#000000;stroke-width:0.8;\" x=\"25.215625\" xlink:href=\"#m39e3fe3f4b\" y=\"31.005612\"/>\r\n      </g>\r\n     </g>\r\n     <g id=\"text_13\">\r\n      <!-- 16 -->\r\n      <g transform=\"translate(7.2 34.801705)scale(0.1 -0.1)\">\r\n       <use xlink:href=\"#MalgunGothic-31\"/>\r\n       <use x=\"55.078125\" xlink:href=\"#MalgunGothic-36\"/>\r\n      </g>\r\n     </g>\r\n    </g>\r\n   </g>\r\n   <g id=\"line2d_14\">\r\n    <path clip-path=\"url(#pa9d63d3360)\" d=\"M 40.433807 17.083636 \r\nL 46.176517 17.083636 \r\nL 51.919227 32.689321 \r\nL 57.661937 32.689321 \r\nL 63.404647 37.891216 \r\nL 69.147357 37.891216 \r\nL 74.890068 58.698795 \r\nL 80.632778 58.698795 \r\nL 86.375488 69.102585 \r\nL 92.118198 69.102585 \r\nL 97.860908 95.112059 \r\nL 103.603618 95.112059 \r\nL 109.346328 110.717864 \r\nL 115.089038 110.717864 \r\nL 120.831748 141.929474 \r\nL 126.574459 141.929474 \r\nL 132.317169 178.342859 \r\nL 138.059879 178.342859 \r\nL 143.802589 188.746769 \r\nL 149.545299 188.746769 \r\nL 155.288009 193.948664 \r\nL 161.030719 193.948664 \r\nL 166.773429 214.756364 \r\nL 172.51614 214.756364 \r\nL 178.25885 199.151281 \r\nL 184.00156 199.151281 \r\nL 189.74427 173.142409 \r\nL 195.48698 173.142409 \r\nL 201.22969 157.537327 \r\nL 206.9724 157.537327 \r\nL 212.71511 147.133898 \r\nL 218.457821 147.133898 \r\nL 224.200531 136.730349 \r\nL 229.943241 136.730349 \r\nL 235.685951 115.923251 \r\nL 241.428661 115.923251 \r\nL 247.171371 95.116154 \r\nL 252.914081 95.116154 \r\nL 258.656791 84.712605 \r\nL 264.399502 84.712605 \r\nL 270.142212 69.107282 \r\nL 275.884922 69.107282 \r\nL 281.627632 58.703733 \r\nL 287.370342 58.703733 \r\nL 293.113052 53.501958 \r\nL 298.855762 53.501958 \r\nL 304.598472 43.098409 \r\nL 310.341182 43.098409 \r\nL 316.083893 27.493086 \r\nL 321.826603 27.493086 \r\nL 327.569313 22.291312 \r\nL 333.312023 22.291312 \r\nL 339.054733 17.089537 \r\nL 344.797443 17.089537 \r\n\" style=\"fill:none;stroke:#1f77b4;stroke-linecap:square;stroke-width:1.5;\"/>\r\n   </g>\r\n   <g id=\"patch_3\">\r\n    <path d=\"M 25.215625 224.64 \r\nL 25.215625 7.2 \r\n\" style=\"fill:none;stroke:#000000;stroke-linecap:square;stroke-linejoin:miter;stroke-width:0.8;\"/>\r\n   </g>\r\n   <g id=\"patch_4\">\r\n    <path d=\"M 360.015625 224.64 \r\nL 360.015625 7.2 \r\n\" style=\"fill:none;stroke:#000000;stroke-linecap:square;stroke-linejoin:miter;stroke-width:0.8;\"/>\r\n   </g>\r\n   <g id=\"patch_5\">\r\n    <path d=\"M 25.215625 224.64 \r\nL 360.015625 224.64 \r\n\" style=\"fill:none;stroke:#000000;stroke-linecap:square;stroke-linejoin:miter;stroke-width:0.8;\"/>\r\n   </g>\r\n   <g id=\"patch_6\">\r\n    <path d=\"M 25.215625 7.2 \r\nL 360.015625 7.2 \r\n\" style=\"fill:none;stroke:#000000;stroke-linecap:square;stroke-linejoin:miter;stroke-width:0.8;\"/>\r\n   </g>\r\n  </g>\r\n </g>\r\n <defs>\r\n  <clipPath id=\"pa9d63d3360\">\r\n   <rect height=\"217.44\" width=\"334.8\" x=\"25.215625\" y=\"7.2\"/>\r\n  </clipPath>\r\n </defs>\r\n</svg>\r\n",
      "image/png": "[encoded data removed]"
     },
     "metadata": {
      "needs_background": "light"
     }
    }
   ],
   "metadata": {}
  },
  {
   "cell_type": "markdown",
   "source": [
    "#### (2) 꽃받침의 길이를 특징으로 사용하였을 때 어떤 값을 기준값으로 하는 것이 가장 좋은가?"
   ],
   "metadata": {}
  },
  {
   "cell_type": "code",
   "execution_count": 21,
   "source": [
    "grid[logloss.index(np.min(logloss))]"
   ],
   "outputs": [
    {
     "output_type": "execute_result",
     "data": {
      "text/plain": [
       "5.4"
      ]
     },
     "metadata": {},
     "execution_count": 21
    }
   ],
   "metadata": {}
  },
  {
   "cell_type": "markdown",
   "source": [
    "#### (3) 꽃받침의 폭(sepal width)에 대해 위의 분석을 실시하라. 이 때는 기준값이 어떻게 되는가?"
   ],
   "metadata": {}
  },
  {
   "cell_type": "code",
   "execution_count": 27,
   "source": [
    "def calculate_logloss_width(df, thres):\r\n",
    "    df[\"y_hat_width\"] = (df[\"sepal width (cm)\"] < thres).astype(int)\r\n",
    "    return log_loss(df[\"y\"], df[\"y_hat_width\"])\r\n",
    "min_width = df['sepal width (cm)'].min()\r\n",
    "max_width = df['sepal width (cm)'].max()\r\n",
    "\r\n",
    "grid_width = np.array(range(int(min_width*20), int(max_width*20)))/20\r\n",
    "\r\n",
    "logloss_width = []\r\n",
    "for thres in grid_width:\r\n",
    "    logloss_width.append(calculate_logloss_width(df, thres))\r\n",
    "    \r\n",
    "sns.lineplot(grid_width, logloss_width)"
   ],
   "outputs": [
    {
     "output_type": "stream",
     "name": "stderr",
     "text": [
      "C:\\Python\\Python37\\lib\\site-packages\\seaborn\\_decorators.py:43: FutureWarning: Pass the following variables as keyword args: x, y. From version 0.12, the only valid positional argument will be `data`, and passing other arguments without an explicit keyword will result in an error or misinterpretation.\n",
      "  FutureWarning\n"
     ]
    },
    {
     "output_type": "execute_result",
     "data": {
      "text/plain": [
       "<AxesSubplot:>"
      ]
     },
     "metadata": {},
     "execution_count": 27
    },
    {
     "output_type": "display_data",
     "data": {
      "text/plain": [
       "<Figure size 432x288 with 1 Axes>"
      ],
      "image/svg+xml": "<?xml version=\"1.0\" encoding=\"utf-8\" standalone=\"no\"?>\r\n<!DOCTYPE svg PUBLIC \"-//W3C//DTD SVG 1.1//EN\"\r\n  \"http://www.w3.org/Graphics/SVG/1.1/DTD/svg11.dtd\">\r\n<svg height=\"248.79625pt\" version=\"1.1\" viewBox=\"0 0 367.215625 248.79625\" width=\"367.215625pt\" xmlns=\"http://www.w3.org/2000/svg\" xmlns:xlink=\"http://www.w3.org/1999/xlink\">\r\n <metadata>\r\n  <rdf:RDF xmlns:cc=\"http://creativecommons.org/ns#\" xmlns:dc=\"http://purl.org/dc/elements/1.1/\" xmlns:rdf=\"http://www.w3.org/1999/02/22-rdf-syntax-ns#\">\r\n   <cc:Work>\r\n    <dc:type rdf:resource=\"http://purl.org/dc/dcmitype/StillImage\"/>\r\n    <dc:date>2021-08-06T18:00:52.229195</dc:date>\r\n    <dc:format>image/svg+xml</dc:format>\r\n    <dc:creator>\r\n     <cc:Agent>\r\n      <dc:title>Matplotlib v3.4.2, https://matplotlib.org/</dc:title>\r\n     </cc:Agent>\r\n    </dc:creator>\r\n   </cc:Work>\r\n  </rdf:RDF>\r\n </metadata>\r\n <defs>\r\n  <style type=\"text/css\">*{stroke-linecap:butt;stroke-linejoin:round;}</style>\r\n </defs>\r\n <g id=\"figure_1\">\r\n  <g id=\"patch_1\">\r\n   <path d=\"M 0 248.79625 \r\nL 367.215625 248.79625 \r\nL 367.215625 0 \r\nL 0 0 \r\nz\r\n\" style=\"fill:none;\"/>\r\n  </g>\r\n  <g id=\"axes_1\">\r\n   <g id=\"patch_2\">\r\n    <path d=\"M 25.215625 224.64 \r\nL 360.015625 224.64 \r\nL 360.015625 7.2 \r\nL 25.215625 7.2 \r\nz\r\n\" style=\"fill:#ffffff;\"/>\r\n   </g>\r\n   <g id=\"matplotlib.axis_1\">\r\n    <g id=\"xtick_1\">\r\n     <g id=\"line2d_1\">\r\n      <defs>\r\n       <path d=\"M 0 0 \r\nL 0 3.5 \r\n\" id=\"m7b08f2a23e\" style=\"stroke:#000000;stroke-width:0.8;\"/>\r\n      </defs>\r\n      <g>\r\n       <use style=\"stroke:#000000;stroke-width:0.8;\" x=\"40.433807\" xlink:href=\"#m7b08f2a23e\" y=\"224.64\"/>\r\n      </g>\r\n     </g>\r\n     <g id=\"text_1\">\r\n      <!-- 2.0 -->\r\n      <g transform=\"translate(33.832244 239.232188)scale(0.1 -0.1)\">\r\n       <defs>\r\n        <path d=\"M 2519 3372 \r\nQ 2519 3784 2275 4018 \r\nQ 2031 4253 1628 4253 \r\nQ 1341 4253 1053 4104 \r\nQ 766 3956 534 3697 \r\nL 534 4234 \r\nQ 981 4675 1691 4675 \r\nQ 2281 4675 2642 4334 \r\nQ 3003 3994 3003 3416 \r\nQ 3003 2919 2772 2545 \r\nQ 2541 2172 1984 1775 \r\nQ 1459 1406 1254 1215 \r\nQ 1050 1025 967 854 \r\nQ 884 684 884 450 \r\nL 3116 450 \r\nL 3116 0 \r\nL 356 0 \r\nL 356 225 \r\nQ 356 603 461 870 \r\nQ 566 1138 811 1392 \r\nQ 1056 1647 1597 2022 \r\nQ 2091 2363 2305 2670 \r\nQ 2519 2978 2519 3372 \r\nz\r\n\" id=\"MalgunGothic-32\" transform=\"scale(0.015625)\"/>\r\n        <path d=\"M 356 275 \r\nQ 356 422 459 523 \r\nQ 563 625 700 625 \r\nQ 838 625 941 523 \r\nQ 1044 422 1044 275 \r\nQ 1044 138 942 33 \r\nQ 841 -72 700 -72 \r\nQ 559 -72 457 29 \r\nQ 356 131 356 275 \r\nz\r\n\" id=\"MalgunGothic-2e\" transform=\"scale(0.015625)\"/>\r\n        <path d=\"M 278 2206 \r\nQ 278 3425 675 4050 \r\nQ 1072 4675 1819 4675 \r\nQ 3253 4675 3253 2319 \r\nQ 3253 1156 2854 539 \r\nQ 2456 -78 1716 -78 \r\nQ 1016 -78 647 520 \r\nQ 278 1119 278 2206 \r\nz\r\nM 784 2231 \r\nQ 784 344 1769 344 \r\nQ 2747 344 2747 2259 \r\nQ 2747 4250 1794 4250 \r\nQ 784 4250 784 2231 \r\nz\r\n\" id=\"MalgunGothic-30\" transform=\"scale(0.015625)\"/>\r\n       </defs>\r\n       <use xlink:href=\"#MalgunGothic-32\"/>\r\n       <use x=\"55.078125\" xlink:href=\"#MalgunGothic-2e\"/>\r\n       <use x=\"76.953125\" xlink:href=\"#MalgunGothic-30\"/>\r\n      </g>\r\n     </g>\r\n    </g>\r\n    <g id=\"xtick_2\">\r\n     <g id=\"line2d_2\">\r\n      <g>\r\n       <use style=\"stroke:#000000;stroke-width:0.8;\" x=\"105.192027\" xlink:href=\"#m7b08f2a23e\" y=\"224.64\"/>\r\n      </g>\r\n     </g>\r\n     <g id=\"text_2\">\r\n      <!-- 2.5 -->\r\n      <g transform=\"translate(98.590465 239.232188)scale(0.1 -0.1)\">\r\n       <defs>\r\n        <path d=\"M 3072 1403 \r\nQ 3072 722 2636 322 \r\nQ 2200 -78 1469 -78 \r\nQ 828 -78 516 113 \r\nL 516 650 \r\nQ 994 344 1475 344 \r\nQ 1969 344 2270 630 \r\nQ 2572 916 2572 1372 \r\nQ 2572 1838 2265 2092 \r\nQ 1959 2347 1381 2347 \r\nQ 994 2347 603 2300 \r\nL 759 4600 \r\nL 2869 4600 \r\nL 2869 4147 \r\nL 1206 4147 \r\nL 1106 2763 \r\nQ 1347 2784 1547 2784 \r\nQ 2263 2784 2667 2414 \r\nQ 3072 2044 3072 1403 \r\nz\r\n\" id=\"MalgunGothic-35\" transform=\"scale(0.015625)\"/>\r\n       </defs>\r\n       <use xlink:href=\"#MalgunGothic-32\"/>\r\n       <use x=\"55.078125\" xlink:href=\"#MalgunGothic-2e\"/>\r\n       <use x=\"76.953125\" xlink:href=\"#MalgunGothic-35\"/>\r\n      </g>\r\n     </g>\r\n    </g>\r\n    <g id=\"xtick_3\">\r\n     <g id=\"line2d_3\">\r\n      <g>\r\n       <use style=\"stroke:#000000;stroke-width:0.8;\" x=\"169.950248\" xlink:href=\"#m7b08f2a23e\" y=\"224.64\"/>\r\n      </g>\r\n     </g>\r\n     <g id=\"text_3\">\r\n      <!-- 3.0 -->\r\n      <g transform=\"translate(163.348685 239.232188)scale(0.1 -0.1)\">\r\n       <defs>\r\n        <path d=\"M 416 719 \r\nQ 891 344 1478 344 \r\nQ 1959 344 2254 587 \r\nQ 2550 831 2550 1247 \r\nQ 2550 2169 1253 2169 \r\nL 872 2169 \r\nL 872 2591 \r\nL 1234 2591 \r\nQ 2388 2591 2388 3453 \r\nQ 2388 4250 1509 4250 \r\nQ 1022 4250 594 3916 \r\nL 594 4413 \r\nQ 1031 4675 1634 4675 \r\nQ 2184 4675 2539 4372 \r\nQ 2894 4069 2894 3581 \r\nQ 2894 2678 1972 2409 \r\nL 1972 2400 \r\nQ 2469 2356 2764 2053 \r\nQ 3059 1750 3059 1300 \r\nQ 3059 672 2604 297 \r\nQ 2150 -78 1450 -78 \r\nQ 806 -78 416 169 \r\nL 416 719 \r\nz\r\n\" id=\"MalgunGothic-33\" transform=\"scale(0.015625)\"/>\r\n       </defs>\r\n       <use xlink:href=\"#MalgunGothic-33\"/>\r\n       <use x=\"55.078125\" xlink:href=\"#MalgunGothic-2e\"/>\r\n       <use x=\"76.953125\" xlink:href=\"#MalgunGothic-30\"/>\r\n      </g>\r\n     </g>\r\n    </g>\r\n    <g id=\"xtick_4\">\r\n     <g id=\"line2d_4\">\r\n      <g>\r\n       <use style=\"stroke:#000000;stroke-width:0.8;\" x=\"234.708468\" xlink:href=\"#m7b08f2a23e\" y=\"224.64\"/>\r\n      </g>\r\n     </g>\r\n     <g id=\"text_4\">\r\n      <!-- 3.5 -->\r\n      <g transform=\"translate(228.106906 239.232188)scale(0.1 -0.1)\">\r\n       <use xlink:href=\"#MalgunGothic-33\"/>\r\n       <use x=\"55.078125\" xlink:href=\"#MalgunGothic-2e\"/>\r\n       <use x=\"76.953125\" xlink:href=\"#MalgunGothic-35\"/>\r\n      </g>\r\n     </g>\r\n    </g>\r\n    <g id=\"xtick_5\">\r\n     <g id=\"line2d_5\">\r\n      <g>\r\n       <use style=\"stroke:#000000;stroke-width:0.8;\" x=\"299.466689\" xlink:href=\"#m7b08f2a23e\" y=\"224.64\"/>\r\n      </g>\r\n     </g>\r\n     <g id=\"text_5\">\r\n      <!-- 4.0 -->\r\n      <g transform=\"translate(292.865126 239.232188)scale(0.1 -0.1)\">\r\n       <defs>\r\n        <path d=\"M 2703 4600 \r\nL 2703 1563 \r\nL 3309 1563 \r\nL 3309 1113 \r\nL 2703 1113 \r\nL 2703 0 \r\nL 2213 0 \r\nL 2213 1113 \r\nL 50 1113 \r\nL 50 1534 \r\nQ 728 2297 1295 3109 \r\nQ 1863 3922 2172 4600 \r\nL 2703 4600 \r\nz\r\nM 625 1563 \r\nL 2213 1563 \r\nL 2213 3831 \r\nQ 1613 2788 959 1981 \r\nL 625 1563 \r\nz\r\n\" id=\"MalgunGothic-34\" transform=\"scale(0.015625)\"/>\r\n       </defs>\r\n       <use xlink:href=\"#MalgunGothic-34\"/>\r\n       <use x=\"55.078125\" xlink:href=\"#MalgunGothic-2e\"/>\r\n       <use x=\"76.953125\" xlink:href=\"#MalgunGothic-30\"/>\r\n      </g>\r\n     </g>\r\n    </g>\r\n   </g>\r\n   <g id=\"matplotlib.axis_2\">\r\n    <g id=\"ytick_1\">\r\n     <g id=\"line2d_6\">\r\n      <defs>\r\n       <path d=\"M 0 0 \r\nL -3.5 0 \r\n\" id=\"m0d03e52d87\" style=\"stroke:#000000;stroke-width:0.8;\"/>\r\n      </defs>\r\n      <g>\r\n       <use style=\"stroke:#000000;stroke-width:0.8;\" x=\"25.215625\" xlink:href=\"#m0d03e52d87\" y=\"206.782004\"/>\r\n      </g>\r\n     </g>\r\n     <g id=\"text_6\">\r\n      <!-- 6 -->\r\n      <g transform=\"translate(12.707813 210.578098)scale(0.1 -0.1)\">\r\n       <defs>\r\n        <path d=\"M 2981 4069 \r\nQ 2619 4250 2228 4250 \r\nQ 1591 4250 1228 3689 \r\nQ 866 3128 869 2213 \r\nL 884 2213 \r\nQ 1203 2872 1938 2872 \r\nQ 2547 2872 2903 2478 \r\nQ 3259 2084 3259 1450 \r\nQ 3259 797 2857 359 \r\nQ 2456 -78 1825 -78 \r\nQ 1116 -78 736 478 \r\nQ 356 1034 356 2019 \r\nQ 356 3181 847 3928 \r\nQ 1338 4675 2222 4675 \r\nQ 2700 4675 2981 4544 \r\nL 2981 4069 \r\nz\r\nM 906 1506 \r\nQ 906 1022 1165 683 \r\nQ 1425 344 1844 344 \r\nQ 2247 344 2498 645 \r\nQ 2750 947 2750 1388 \r\nQ 2750 1888 2509 2167 \r\nQ 2269 2447 1838 2447 \r\nQ 1444 2447 1175 2173 \r\nQ 906 1900 906 1506 \r\nz\r\n\" id=\"MalgunGothic-36\" transform=\"scale(0.015625)\"/>\r\n       </defs>\r\n       <use xlink:href=\"#MalgunGothic-36\"/>\r\n      </g>\r\n     </g>\r\n    </g>\r\n    <g id=\"ytick_2\">\r\n     <g id=\"line2d_7\">\r\n      <g>\r\n       <use style=\"stroke:#000000;stroke-width:0.8;\" x=\"25.215625\" xlink:href=\"#m0d03e52d87\" y=\"173.11587\"/>\r\n      </g>\r\n     </g>\r\n     <g id=\"text_7\">\r\n      <!-- 8 -->\r\n      <g transform=\"translate(12.707813 176.911964)scale(0.1 -0.1)\">\r\n       <defs>\r\n        <path d=\"M 303 1281 \r\nQ 303 1669 539 2011 \r\nQ 775 2353 1153 2494 \r\nQ 856 2647 675 2915 \r\nQ 494 3184 494 3500 \r\nQ 494 3828 659 4098 \r\nQ 825 4369 1122 4522 \r\nQ 1419 4675 1778 4675 \r\nQ 2334 4675 2700 4342 \r\nQ 3066 4009 3066 3500 \r\nQ 3066 3181 2881 2914 \r\nQ 2697 2647 2413 2494 \r\nQ 2788 2350 3022 2009 \r\nQ 3256 1669 3256 1281 \r\nQ 3256 672 2843 297 \r\nQ 2431 -78 1778 -78 \r\nQ 1131 -78 717 301 \r\nQ 303 681 303 1281 \r\nz\r\nM 809 1328 \r\nQ 809 878 1081 611 \r\nQ 1353 344 1781 344 \r\nQ 2206 344 2482 619 \r\nQ 2759 894 2759 1328 \r\nQ 2759 1731 2482 2011 \r\nQ 2206 2291 1781 2291 \r\nQ 1372 2291 1090 2020 \r\nQ 809 1750 809 1328 \r\nz\r\nM 1003 3459 \r\nQ 1003 3125 1234 2900 \r\nQ 1466 2675 1781 2675 \r\nQ 2097 2675 2330 2900 \r\nQ 2563 3125 2563 3459 \r\nQ 2563 3803 2341 4026 \r\nQ 2119 4250 1781 4250 \r\nQ 1450 4250 1226 4029 \r\nQ 1003 3809 1003 3459 \r\nz\r\n\" id=\"MalgunGothic-38\" transform=\"scale(0.015625)\"/>\r\n       </defs>\r\n       <use xlink:href=\"#MalgunGothic-38\"/>\r\n      </g>\r\n     </g>\r\n    </g>\r\n    <g id=\"ytick_3\">\r\n     <g id=\"line2d_8\">\r\n      <g>\r\n       <use style=\"stroke:#000000;stroke-width:0.8;\" x=\"25.215625\" xlink:href=\"#m0d03e52d87\" y=\"139.449736\"/>\r\n      </g>\r\n     </g>\r\n     <g id=\"text_8\">\r\n      <!-- 10 -->\r\n      <g transform=\"translate(7.2 143.24583)scale(0.1 -0.1)\">\r\n       <defs>\r\n        <path d=\"M 2231 0 \r\nL 1734 0 \r\nL 1734 3972 \r\nQ 1591 3828 1266 3661 \r\nQ 941 3494 672 3428 \r\nL 672 3959 \r\nQ 1016 4056 1409 4275 \r\nQ 1803 4494 2031 4700 \r\nL 2231 4700 \r\nL 2231 0 \r\nz\r\n\" id=\"MalgunGothic-31\" transform=\"scale(0.015625)\"/>\r\n       </defs>\r\n       <use xlink:href=\"#MalgunGothic-31\"/>\r\n       <use x=\"55.078125\" xlink:href=\"#MalgunGothic-30\"/>\r\n      </g>\r\n     </g>\r\n    </g>\r\n    <g id=\"ytick_4\">\r\n     <g id=\"line2d_9\">\r\n      <g>\r\n       <use style=\"stroke:#000000;stroke-width:0.8;\" x=\"25.215625\" xlink:href=\"#m0d03e52d87\" y=\"105.783602\"/>\r\n      </g>\r\n     </g>\r\n     <g id=\"text_9\">\r\n      <!-- 12 -->\r\n      <g transform=\"translate(7.2 109.579695)scale(0.1 -0.1)\">\r\n       <use xlink:href=\"#MalgunGothic-31\"/>\r\n       <use x=\"55.078125\" xlink:href=\"#MalgunGothic-32\"/>\r\n      </g>\r\n     </g>\r\n    </g>\r\n    <g id=\"ytick_5\">\r\n     <g id=\"line2d_10\">\r\n      <g>\r\n       <use style=\"stroke:#000000;stroke-width:0.8;\" x=\"25.215625\" xlink:href=\"#m0d03e52d87\" y=\"72.117467\"/>\r\n      </g>\r\n     </g>\r\n     <g id=\"text_10\">\r\n      <!-- 14 -->\r\n      <g transform=\"translate(7.2 75.913561)scale(0.1 -0.1)\">\r\n       <use xlink:href=\"#MalgunGothic-31\"/>\r\n       <use x=\"55.078125\" xlink:href=\"#MalgunGothic-34\"/>\r\n      </g>\r\n     </g>\r\n    </g>\r\n    <g id=\"ytick_6\">\r\n     <g id=\"line2d_11\">\r\n      <g>\r\n       <use style=\"stroke:#000000;stroke-width:0.8;\" x=\"25.215625\" xlink:href=\"#m0d03e52d87\" y=\"38.451333\"/>\r\n      </g>\r\n     </g>\r\n     <g id=\"text_11\">\r\n      <!-- 16 -->\r\n      <g transform=\"translate(7.2 42.247427)scale(0.1 -0.1)\">\r\n       <use xlink:href=\"#MalgunGothic-31\"/>\r\n       <use x=\"55.078125\" xlink:href=\"#MalgunGothic-36\"/>\r\n      </g>\r\n     </g>\r\n    </g>\r\n   </g>\r\n   <g id=\"line2d_12\">\r\n    <path clip-path=\"url(#p8f5c02033b)\" d=\"M 40.433807 17.083636 \r\nL 46.909629 22.897572 \r\nL 53.385451 22.897572 \r\nL 59.861273 22.897572 \r\nL 66.337095 22.897572 \r\nL 72.812917 34.525443 \r\nL 79.288739 34.525443 \r\nL 85.764561 46.153179 \r\nL 92.240383 46.153179 \r\nL 98.716205 63.594985 \r\nL 105.192027 63.594985 \r\nL 111.667849 86.850727 \r\nL 118.143671 86.850727 \r\nL 124.619493 104.292533 \r\nL 131.095316 104.292533 \r\nL 137.571138 133.36221 \r\nL 144.04696 133.36221 \r\nL 150.522782 168.245823 \r\nL 156.998604 168.245823 \r\nL 163.474426 203.1293 \r\nL 169.950248 203.1293 \r\nL 176.42607 214.756364 \r\nL 182.901892 214.756364 \r\nL 189.377714 208.94189 \r\nL 195.853536 208.94189 \r\nL 202.329358 197.313346 \r\nL 208.80518 197.313346 \r\nL 215.281002 191.499141 \r\nL 221.756824 191.499141 \r\nL 228.232646 144.986447 \r\nL 234.708468 144.986447 \r\nL 241.18429 110.102027 \r\nL 247.660112 110.102027 \r\nL 254.135934 92.659817 \r\nL 260.611757 92.659817 \r\nL 267.087579 75.217607 \r\nL 273.563401 75.217607 \r\nL 280.039223 51.961327 \r\nL 286.515045 51.961327 \r\nL 292.990867 40.333187 \r\nL 299.466689 40.333187 \r\nL 305.942511 34.519117 \r\nL 312.418333 34.519117 \r\nL 318.894155 28.705047 \r\nL 325.369977 28.705047 \r\nL 331.845799 22.890977 \r\nL 338.321621 22.890977 \r\nL 344.797443 22.890977 \r\n\" style=\"fill:none;stroke:#1f77b4;stroke-linecap:square;stroke-width:1.5;\"/>\r\n   </g>\r\n   <g id=\"patch_3\">\r\n    <path d=\"M 25.215625 224.64 \r\nL 25.215625 7.2 \r\n\" style=\"fill:none;stroke:#000000;stroke-linecap:square;stroke-linejoin:miter;stroke-width:0.8;\"/>\r\n   </g>\r\n   <g id=\"patch_4\">\r\n    <path d=\"M 360.015625 224.64 \r\nL 360.015625 7.2 \r\n\" style=\"fill:none;stroke:#000000;stroke-linecap:square;stroke-linejoin:miter;stroke-width:0.8;\"/>\r\n   </g>\r\n   <g id=\"patch_5\">\r\n    <path d=\"M 25.215625 224.64 \r\nL 360.015625 224.64 \r\n\" style=\"fill:none;stroke:#000000;stroke-linecap:square;stroke-linejoin:miter;stroke-width:0.8;\"/>\r\n   </g>\r\n   <g id=\"patch_6\">\r\n    <path d=\"M 25.215625 7.2 \r\nL 360.015625 7.2 \r\n\" style=\"fill:none;stroke:#000000;stroke-linecap:square;stroke-linejoin:miter;stroke-width:0.8;\"/>\r\n   </g>\r\n  </g>\r\n </g>\r\n <defs>\r\n  <clipPath id=\"p8f5c02033b\">\r\n   <rect height=\"217.44\" width=\"334.8\" x=\"25.215625\" y=\"7.2\"/>\r\n  </clipPath>\r\n </defs>\r\n</svg>\r\n",
      "image/png": "[encoded data removed]"
     },
     "metadata": {
      "needs_background": "light"
     }
    }
   ],
   "metadata": {}
  },
  {
   "cell_type": "code",
   "execution_count": 28,
   "source": [
    "grid_width[logloss_width.index(np.min(logloss_width))]"
   ],
   "outputs": [
    {
     "output_type": "execute_result",
     "data": {
      "text/plain": [
       "3.05"
      ]
     },
     "metadata": {},
     "execution_count": 28
    }
   ],
   "metadata": {}
  },
  {
   "cell_type": "markdown",
   "source": [
    "#### (4) 꽃받침의 길이(sepal length)와 꽃받침의 폭(sepal width) 중 하나를 특징으로 선택해야 한다면 어떤 것을 선택해야 하는가?"
   ],
   "metadata": {}
  },
  {
   "cell_type": "code",
   "execution_count": 32,
   "source": [
    "np.min(logloss), np.min(logloss_width)"
   ],
   "outputs": [
    {
     "output_type": "execute_result",
     "data": {
      "text/plain": [
       "(3.799305383311686, 5.526268190980124)"
      ]
     },
     "metadata": {},
     "execution_count": 32
    }
   ],
   "metadata": {}
  },
  {
   "cell_type": "markdown",
   "source": [
    "꽃받침의 길이가 더 좋음."
   ],
   "metadata": {}
  }
 ],
 "metadata": {
  "orig_nbformat": 4,
  "language_info": {
   "name": "python",
   "version": "3.7.9",
   "mimetype": "text/x-python",
   "codemirror_mode": {
    "name": "ipython",
    "version": 3
   },
   "pygments_lexer": "ipython3",
   "nbconvert_exporter": "python",
   "file_extension": ".py"
  },
  "kernelspec": {
   "name": "python3",
   "display_name": "Python 3.7.9 64-bit"
  },
  "interpreter": {
   "hash": "cbc1630f6ac27d00c9f4ea5ff59d07a3d2920d2fb3e683b05679c37215caa53f"
  }
 },
 "nbformat": 4,
 "nbformat_minor": 2
}